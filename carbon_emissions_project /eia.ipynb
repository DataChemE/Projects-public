{
 "cells": [
  {
   "cell_type": "markdown",
   "metadata": {},
   "source": [
    "This project is pulling the Carbon emissions in the United States from 2000 to 2020 using the Energy Information Administration API. The data is broken down by sector that is emitting carbon dioxide. My goal is to shed some light on which sectors in the US have the highest carbon footprint. \n",
    "\n",
    "We will also see if we can see some trends in the data over time, to see if we are improving over time. \n",
    "\n",
    "Once we extract this data into a file we will load this into Tableau for charting purposes. This will be posted under Tableau public. \n",
    "https://public.tableau.com/app/profile/datacheme/viz/emissionsworkbook/FuelTypeStateDashboardwithFilters"
   ]
  },
  {
   "cell_type": "code",
   "execution_count": 1,
   "metadata": {},
   "outputs": [
    {
     "name": "stdout",
     "output_type": "stream",
     "text": [
      "(26208, 9)\n"
     ]
    }
   ],
   "source": [
    "import requests\n",
    "from dotenv import load_dotenv\n",
    "import os\n",
    "import json\n",
    "import pandas as pd \n",
    "import numpy as np \n",
    "\n",
    "\n",
    "\n",
    "def configure():\n",
    "    load_dotenv()\n",
    "\n",
    "configure()\n",
    "\n",
    "\n",
    "#sectorIds CC = commerical , IC = industrial, TC = transportation , EC = electric power, RC = residential , TT = total carbon emissions \n",
    "sector_Id_list = ['CC', 'IC', 'TC', 'EC', 'RC', 'TT']\n",
    "\n",
    "   \n",
    "s = requests.session()\n",
    "\n",
    "# We are pulling data from 2000-2020 for carbon emissions by sector from the Energy Information Administration \n",
    "#This API only allows 5000 rows per api call, so I broke each call into the sector, and then concatenating the results to one dataframe \n",
    "\n",
    "url = \"https://api.eia.gov/v2/co2-emissions/co2-emissions-aggregates/data/?frequency=annual&data[0]=value&start=2000&end=2020&sort[0][column]=period&sort[0][direction]=desc&offset=0&length=5000\"\n",
    "api_key = os.getenv('eia-apikey')\n",
    "\n",
    "\n",
    "df_total = pd.DataFrame()\n",
    "\n",
    "   \n",
    "list_of_dfs = []\n",
    "for i, n in enumerate(sector_Id_list):\n",
    "    response = s.get(f\"{url}&facets[sectorId][]={n}&api_key={api_key}\").content\n",
    "    data = json.loads(response)\n",
    "    df_init = pd.json_normalize(data['response']['data'])\n",
    "    list_of_dfs.append(df_init)\n",
    "    \n",
    "df_total = pd.concat(list_of_dfs, axis = 0)\n",
    "\n",
    "\n",
    "\n",
    "s.close()\n",
    "\n",
    "df_total.to_csv('carbon_emissions.csv')\n",
    "\n",
    "print(df_total.shape)"
   ]
  },
  {
   "cell_type": "code",
   "execution_count": 2,
   "metadata": {},
   "outputs": [
    {
     "data": {
      "text/plain": [
       "array(['CC', 'IC', 'TC', 'EC', 'RC', 'TT'], dtype=object)"
      ]
     },
     "execution_count": 2,
     "metadata": {},
     "output_type": "execute_result"
    }
   ],
   "source": [
    "#check to see if all the categories are represented \n",
    "df_total['sectorId'].unique()\n"
   ]
  },
  {
   "cell_type": "code",
   "execution_count": 3,
   "metadata": {},
   "outputs": [
    {
     "data": {
      "text/plain": [
       "array(['Maryland', 'Wyoming', 'Wisconsin', 'West Virginia', 'Washington',\n",
       "       'Virginia', 'Vermont', 'Utah', 'United States', 'Texas',\n",
       "       'Tennessee', 'South Dakota', 'South Carolina', 'Rhode Island',\n",
       "       'Pennsylvania', 'Oregon', 'Oklahoma', 'Ohio', 'North Dakota',\n",
       "       'North Carolina', 'New York', 'New Mexico', 'New Jersey',\n",
       "       'New Hampshire', 'Nevada', 'Nebraska', 'Montana', 'Missouri',\n",
       "       'Mississippi', 'Minnesota', 'Michigan', 'Massachusetts', 'Maine',\n",
       "       'Louisiana', 'Kentucky', 'Kansas', 'Iowa', 'Indiana', 'Illinois',\n",
       "       'Idaho', 'Hawaii', 'Georgia', 'Florida', 'District of Columbia',\n",
       "       'Delaware', 'Connecticut', 'Colorado', 'California', 'Arkansas',\n",
       "       'Arizona', 'Alaska', 'Alabama'], dtype=object)"
      ]
     },
     "execution_count": 3,
     "metadata": {},
     "output_type": "execute_result"
    }
   ],
   "source": [
    "#unique states to ensure all data was extracted \n",
    "df_total['state-name'].unique()\n"
   ]
  }
 ],
 "metadata": {
  "kernelspec": {
   "display_name": "Python 3.8.13 ('env_tensor')",
   "language": "python",
   "name": "python3"
  },
  "language_info": {
   "codemirror_mode": {
    "name": "ipython",
    "version": 3
   },
   "file_extension": ".py",
   "mimetype": "text/x-python",
   "name": "python",
   "nbconvert_exporter": "python",
   "pygments_lexer": "ipython3",
   "version": "3.8.13"
  },
  "orig_nbformat": 4,
  "vscode": {
   "interpreter": {
    "hash": "3e5fa1c26ba8185e646262389fd9767bcefb8c2202b628f90438cc73728610d3"
   }
  }
 },
 "nbformat": 4,
 "nbformat_minor": 2
}
