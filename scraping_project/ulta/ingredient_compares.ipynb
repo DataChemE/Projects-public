{
 "cells": [
  {
   "attachments": {},
   "cell_type": "markdown",
   "metadata": {},
   "source": [
    "This analysis will use machine learning to categorize products based on their ingredient listing. \n",
    "\n",
    "There are over 16000 ingredients registered to INCI for cosmetics\n",
    "This data was scraped from Ulta.com using my Scrapy SpiderCrawler project. "
   ]
  },
  {
   "cell_type": "code",
   "execution_count": 14,
   "metadata": {},
   "outputs": [],
   "source": [
    "#import all packages upfront for transparency\n",
    "import numpy as np\n",
    "import pandas as pd\n",
    "import matplotlib.pyplot as plt\n",
    "from sklearn.model_selection import train_test_split\n",
    "from sklearn.feature_extraction.text import CountVectorizer\n",
    "from sklearn.linear_model import LogisticRegression\n",
    "from sklearn import metrics"
   ]
  },
  {
   "cell_type": "code",
   "execution_count": 15,
   "metadata": {},
   "outputs": [
    {
     "data": {
      "text/html": [
       "<div>\n",
       "<style scoped>\n",
       "    .dataframe tbody tr th:only-of-type {\n",
       "        vertical-align: middle;\n",
       "    }\n",
       "\n",
       "    .dataframe tbody tr th {\n",
       "        vertical-align: top;\n",
       "    }\n",
       "\n",
       "    .dataframe thead th {\n",
       "        text-align: right;\n",
       "    }\n",
       "</style>\n",
       "<table border=\"1\" class=\"dataframe\">\n",
       "  <thead>\n",
       "    <tr style=\"text-align: right;\">\n",
       "      <th></th>\n",
       "      <th>product_name</th>\n",
       "      <th>brand-name</th>\n",
       "      <th>rating</th>\n",
       "      <th>ingredients</th>\n",
       "      <th>product_url</th>\n",
       "    </tr>\n",
       "  </thead>\n",
       "  <tbody>\n",
       "    <tr>\n",
       "      <th>585</th>\n",
       "      <td>Almond Avocado Leave-In Conditioner</td>\n",
       "      <td>Design Essentials</td>\n",
       "      <td>3.9</td>\n",
       "      <td>Aqua/Water/Eau, Glyerin, Propylene Glycol, Met...</td>\n",
       "      <td>https://www.ulta.com/p/almond-avocado-leave-in...</td>\n",
       "    </tr>\n",
       "    <tr>\n",
       "      <th>1150</th>\n",
       "      <td>Body Volume Boosting Conditioner</td>\n",
       "      <td>Andrew Fitzsimons</td>\n",
       "      <td>4.7</td>\n",
       "      <td>Water (Aqua/Eau), Cetyl Alcohol, Neopentyl Gly...</td>\n",
       "      <td>https://www.ulta.com/p/body-volume-boosting-co...</td>\n",
       "    </tr>\n",
       "    <tr>\n",
       "      <th>1023</th>\n",
       "      <td>The Detangler Original Conditioner</td>\n",
       "      <td>Paul Mitchell</td>\n",
       "      <td>4.4</td>\n",
       "      <td>Aqua (Water, Eau), Isododecane, Isohexadecane,...</td>\n",
       "      <td>https://www.ulta.com/p/detangler-original-cond...</td>\n",
       "    </tr>\n",
       "    <tr>\n",
       "      <th>854</th>\n",
       "      <td>Non-Aerosol Dry Shampoo with Oat Milk</td>\n",
       "      <td>Klorane</td>\n",
       "      <td>4.3</td>\n",
       "      <td>Oryza Sativa (Rice) Starch (Oryza Sativa Starc...</td>\n",
       "      <td>https://www.ulta.com/p/non-aerosol-dry-shampoo...</td>\n",
       "    </tr>\n",
       "    <tr>\n",
       "      <th>494</th>\n",
       "      <td>Perfect Repair Conditioner Refill</td>\n",
       "      <td>NatureLab. Tokyo</td>\n",
       "      <td>3.8</td>\n",
       "      <td>Aqua (Water, Eau), Cetearyl Alcohol, Dimethico...</td>\n",
       "      <td>https://www.ulta.com/p/perfect-repair-conditio...</td>\n",
       "    </tr>\n",
       "  </tbody>\n",
       "</table>\n",
       "</div>"
      ],
      "text/plain": [
       "                               product_name         brand-name rating  \\\n",
       "585     Almond Avocado Leave-In Conditioner  Design Essentials    3.9   \n",
       "1150       Body Volume Boosting Conditioner  Andrew Fitzsimons    4.7   \n",
       "1023     The Detangler Original Conditioner      Paul Mitchell    4.4   \n",
       "854   Non-Aerosol Dry Shampoo with Oat Milk            Klorane    4.3   \n",
       "494       Perfect Repair Conditioner Refill   NatureLab. Tokyo    3.8   \n",
       "\n",
       "                                            ingredients  \\\n",
       "585   Aqua/Water/Eau, Glyerin, Propylene Glycol, Met...   \n",
       "1150  Water (Aqua/Eau), Cetyl Alcohol, Neopentyl Gly...   \n",
       "1023  Aqua (Water, Eau), Isododecane, Isohexadecane,...   \n",
       "854   Oryza Sativa (Rice) Starch (Oryza Sativa Starc...   \n",
       "494   Aqua (Water, Eau), Cetearyl Alcohol, Dimethico...   \n",
       "\n",
       "                                            product_url  \n",
       "585   https://www.ulta.com/p/almond-avocado-leave-in...  \n",
       "1150  https://www.ulta.com/p/body-volume-boosting-co...  \n",
       "1023  https://www.ulta.com/p/detangler-original-cond...  \n",
       "854   https://www.ulta.com/p/non-aerosol-dry-shampoo...  \n",
       "494   https://www.ulta.com/p/perfect-repair-conditio...  "
      ]
     },
     "metadata": {},
     "output_type": "display_data"
    },
    {
     "name": "stdout",
     "output_type": "stream",
     "text": [
      "original shape (1151, 5)\n"
     ]
    }
   ],
   "source": [
    "#load in the dataset, contains 1151 products\n",
    "df = pd.read_csv(\"/Users/tylerjensen/Data-Science-Portfolio-Projects/scraping_project/ulta/shampoo_conditioner1.csv\")\n",
    "display(df.sample(5))\n",
    "print(f\"original shape {df.shape}\")"
   ]
  },
  {
   "cell_type": "code",
   "execution_count": 16,
   "metadata": {},
   "outputs": [
    {
     "name": "stdout",
     "output_type": "stream",
     "text": [
      "unique_brands 111 \n",
      "rows/columns (1143, 5)\n",
      "overall average rating 4.33\n"
     ]
    }
   ],
   "source": [
    "#drop products without a review yet \n",
    "df = df[df.rating != \"Write A Review\"]\n",
    "df['rating'] = pd.to_numeric(df['rating'])\n",
    "\n",
    "#Count the number of unique brands, shape of DataFrame and overall average product rating\n",
    "print(f\"unique_brands {df['brand-name'].nunique()} \")\n",
    "print(f\"rows/columns {df.shape}\")\n",
    "print(f\"overall average rating {df['rating'].mean():.2f}\")"
   ]
  },
  {
   "cell_type": "code",
   "execution_count": 17,
   "metadata": {},
   "outputs": [
    {
     "name": "stdout",
     "output_type": "stream",
     "text": [
      "product_name    0\n",
      "brand-name      0\n",
      "rating          0\n",
      "ingredients     0\n",
      "product_url     0\n",
      "dtype: int64\n",
      "rows,columns: (1135, 5)\n"
     ]
    }
   ],
   "source": [
    "#there are 8 rows with no ingredient list, no other values are empty\n",
    "#lets drop those rows\n",
    "df = df.dropna()\n",
    "print(df.isna().sum())\n",
    "\n",
    "print(f\"rows,columns: {df.shape}\")"
   ]
  },
  {
   "cell_type": "code",
   "execution_count": 18,
   "metadata": {},
   "outputs": [
    {
     "name": "stdout",
     "output_type": "stream",
     "text": [
      "Paul Mitchell        52\n",
      "Redken               45\n",
      "Bumble and bumble    33\n",
      "Joico                32\n",
      "Not Your Mother's    31\n",
      "                     ..\n",
      "Beast                 1\n",
      "Thick Head            1\n",
      "Every Man Jack        1\n",
      "Pipette               1\n",
      "Punky Colour          1\n",
      "Name: brand-name, Length: 111, dtype: int64\n"
     ]
    }
   ],
   "source": [
    "# which brands have the most products on Ulta under the shampoo/conditioner category\n",
    "print(df['brand-name'].value_counts())"
   ]
  },
  {
   "attachments": {},
   "cell_type": "markdown",
   "metadata": {},
   "source": [
    "This analysis will train a ML model to learn to classify cosmetic products \"product type\" based on their ingredient labels. First we need to clean up the ingredients column. "
   ]
  },
  {
   "cell_type": "code",
   "execution_count": 19,
   "metadata": {},
   "outputs": [
    {
     "data": {
      "text/html": [
       "<div>\n",
       "<style scoped>\n",
       "    .dataframe tbody tr th:only-of-type {\n",
       "        vertical-align: middle;\n",
       "    }\n",
       "\n",
       "    .dataframe tbody tr th {\n",
       "        vertical-align: top;\n",
       "    }\n",
       "\n",
       "    .dataframe thead th {\n",
       "        text-align: right;\n",
       "    }\n",
       "</style>\n",
       "<table border=\"1\" class=\"dataframe\">\n",
       "  <thead>\n",
       "    <tr style=\"text-align: right;\">\n",
       "      <th></th>\n",
       "      <th>product_name</th>\n",
       "      <th>brand-name</th>\n",
       "      <th>rating</th>\n",
       "      <th>ingredients</th>\n",
       "      <th>product_url</th>\n",
       "      <th>type</th>\n",
       "    </tr>\n",
       "  </thead>\n",
       "  <tbody>\n",
       "    <tr>\n",
       "      <th>0</th>\n",
       "      <td>hydrate shampoo</td>\n",
       "      <td>Pureology</td>\n",
       "      <td>4.5</td>\n",
       "      <td>Aqua/Water/Eau, Sodium Cocoyl Isethionate, Dis...</td>\n",
       "      <td>https://www.ulta.com/p/hydrate-shampoo-pimprod...</td>\n",
       "      <td>shampoo</td>\n",
       "    </tr>\n",
       "    <tr>\n",
       "      <th>1</th>\n",
       "      <td>miracle leave-in product</td>\n",
       "      <td>It's A 10</td>\n",
       "      <td>4.6</td>\n",
       "      <td>Water (Aqua, Eau), Propylene Glycol, Cetearyl ...</td>\n",
       "      <td>https://www.ulta.com/p/miracle-leave-in-produc...</td>\n",
       "      <td>conditioner</td>\n",
       "    </tr>\n",
       "    <tr>\n",
       "      <th>2</th>\n",
       "      <td>no.4 bond maintenance shampoo</td>\n",
       "      <td>OLAPLEX</td>\n",
       "      <td>4.3</td>\n",
       "      <td>Water (Aqua/Eau), Sodium Lauroyl Methyl Isethi...</td>\n",
       "      <td>https://www.ulta.com/p/no4-bond-maintenance-sh...</td>\n",
       "      <td>shampoo</td>\n",
       "    </tr>\n",
       "    <tr>\n",
       "      <th>3</th>\n",
       "      <td>hg shampoo for thicker, stronger, fuller-looki...</td>\n",
       "      <td>Bondi Boost</td>\n",
       "      <td>4.7</td>\n",
       "      <td>Aloe Barbadensis (Aloe Vera) Leaf Juice*, Sodi...</td>\n",
       "      <td>https://www.ulta.com/p/hg-shampoo-thicker-stro...</td>\n",
       "      <td>shampoo</td>\n",
       "    </tr>\n",
       "    <tr>\n",
       "      <th>4</th>\n",
       "      <td>no.5 bond maintenance conditioner</td>\n",
       "      <td>OLAPLEX</td>\n",
       "      <td>4.4</td>\n",
       "      <td>Water (Aqua/Eau), Cetearyl Alcohol, PPG-3 Benz...</td>\n",
       "      <td>https://www.ulta.com/p/no5-bond-maintenance-co...</td>\n",
       "      <td>conditioner</td>\n",
       "    </tr>\n",
       "  </tbody>\n",
       "</table>\n",
       "</div>"
      ],
      "text/plain": [
       "                                        product_name   brand-name  rating  \\\n",
       "0                                    hydrate shampoo    Pureology     4.5   \n",
       "1                           miracle leave-in product    It's A 10     4.6   \n",
       "2                      no.4 bond maintenance shampoo      OLAPLEX     4.3   \n",
       "3  hg shampoo for thicker, stronger, fuller-looki...  Bondi Boost     4.7   \n",
       "4                  no.5 bond maintenance conditioner      OLAPLEX     4.4   \n",
       "\n",
       "                                         ingredients  \\\n",
       "0  Aqua/Water/Eau, Sodium Cocoyl Isethionate, Dis...   \n",
       "1  Water (Aqua, Eau), Propylene Glycol, Cetearyl ...   \n",
       "2  Water (Aqua/Eau), Sodium Lauroyl Methyl Isethi...   \n",
       "3  Aloe Barbadensis (Aloe Vera) Leaf Juice*, Sodi...   \n",
       "4  Water (Aqua/Eau), Cetearyl Alcohol, PPG-3 Benz...   \n",
       "\n",
       "                                         product_url         type  \n",
       "0  https://www.ulta.com/p/hydrate-shampoo-pimprod...      shampoo  \n",
       "1  https://www.ulta.com/p/miracle-leave-in-produc...  conditioner  \n",
       "2  https://www.ulta.com/p/no4-bond-maintenance-sh...      shampoo  \n",
       "3  https://www.ulta.com/p/hg-shampoo-thicker-stro...      shampoo  \n",
       "4  https://www.ulta.com/p/no5-bond-maintenance-co...  conditioner  "
      ]
     },
     "execution_count": 19,
     "metadata": {},
     "output_type": "execute_result"
    }
   ],
   "source": [
    "df['product_name'] = df['product_name'].str.lower()\n",
    "\n",
    " #drop rows that contain sets of multiple products as a kit\n",
    "df = df[df['product_name'].str.contains(\"set|kit\") == False]\n",
    "\n",
    "#categorize products by name\n",
    "df['type'] = np.where(pd.Series(df.product_name).str.contains('shampoo|cleanser'),'shampoo', 'conditioner')\n",
    "\n",
    "df.head() "
   ]
  },
  {
   "cell_type": "code",
   "execution_count": 20,
   "metadata": {},
   "outputs": [
    {
     "name": "stdout",
     "output_type": "stream",
     "text": [
      "number of product types: 2\n",
      "df shape after cleaning (1123, 6)\n",
      "count of each type of product:\n",
      "conditioner    563\n",
      "shampoo        560\n",
      "Name: type, dtype: int64\n"
     ]
    }
   ],
   "source": [
    "#DataFrame info after cleaning \n",
    "print(f\"number of product types: {df['type'].nunique()}\")\n",
    "print(f\"df shape after cleaning {df.shape}\")\n",
    "print(f\"count of each type of product:\\n{df['type'].value_counts()}\")\n"
   ]
  },
  {
   "attachments": {},
   "cell_type": "markdown",
   "metadata": {},
   "source": [
    "We see about an even number of shampoos and conditioners, which is expected since most product lineups contain both. \n",
    "\n",
    "Next we are going to clean up the ingredients list column. "
   ]
  },
  {
   "cell_type": "code",
   "execution_count": 21,
   "metadata": {},
   "outputs": [
    {
     "name": "stdout",
     "output_type": "stream",
     "text": [
      "['water (aqua/eau)', 'propylene glycol', 'cetearyl alcohol', 'cyclopentasiloxane', 'behentrimonium chloride', 'quaternium-80', 'phenoxyethanol', 'fragrance (parfum)', 'methylparaben', 'panthenol', 'propylparaben', 'ethylparaben', 'aloe barbadensis leaf juice', 'butylene glycol', 'sodium hydroxide', 'hydrolyzed keratin', 'keratin amino acids', 'helianthus annuus (sunflower) seed extract', 'silk amino acids', 'camellia sinensis leaf extract', 'benzyl benzoate', 'benzyl salicylate', 'hydroxycitronellal', 'linalool']\n"
     ]
    },
    {
     "name": "stderr",
     "output_type": "stream",
     "text": [
      "/var/folders/w5/2z3_2xd934z0ryjywh4_05wr0000gn/T/ipykernel_94785/2900431454.py:3: FutureWarning: The default value of regex will change from True to False in a future version. In addition, single character regular expressions will *not* be treated as literal strings when regex=True.\n",
      "  df['ingredients'] = df['ingredients'].str.replace('*', '')\n",
      "/var/folders/w5/2z3_2xd934z0ryjywh4_05wr0000gn/T/ipykernel_94785/2900431454.py:4: FutureWarning: The default value of regex will change from True to False in a future version. In addition, single character regular expressions will *not* be treated as literal strings when regex=True.\n",
      "  df['ingredients'] = df['ingredients'].str.replace('.', '')\n"
     ]
    }
   ],
   "source": [
    "df['ingredients'] = df['ingredients'].str.lower()\n",
    "\n",
    "df['ingredients'] = df['ingredients'].str.replace('*', '')\n",
    "df['ingredients'] = df['ingredients'].str.replace('.', '')\n",
    "\n",
    "df['ingredients'] = df['ingredients'].str.split(',')\n",
    "\n",
    "#nested list comprehension for stripping white space in each ingredient \n",
    "df['ingredients'] = [[x.strip() for x in l] for l in df['ingredients']]\n",
    "\n",
    "#example print out \n",
    "print(df['ingredients'][11])"
   ]
  },
  {
   "cell_type": "code",
   "execution_count": 22,
   "metadata": {},
   "outputs": [
    {
     "data": {
      "text/html": [
       "<div>\n",
       "<style scoped>\n",
       "    .dataframe tbody tr th:only-of-type {\n",
       "        vertical-align: middle;\n",
       "    }\n",
       "\n",
       "    .dataframe tbody tr th {\n",
       "        vertical-align: top;\n",
       "    }\n",
       "\n",
       "    .dataframe thead th {\n",
       "        text-align: right;\n",
       "    }\n",
       "</style>\n",
       "<table border=\"1\" class=\"dataframe\">\n",
       "  <thead>\n",
       "    <tr style=\"text-align: right;\">\n",
       "      <th></th>\n",
       "      <th>product_name</th>\n",
       "      <th>brand-name</th>\n",
       "      <th>rating</th>\n",
       "      <th>ingredients</th>\n",
       "      <th>product_url</th>\n",
       "      <th>type</th>\n",
       "    </tr>\n",
       "  </thead>\n",
       "  <tbody>\n",
       "    <tr>\n",
       "      <th>0</th>\n",
       "      <td>hydrate shampoo</td>\n",
       "      <td>Pureology</td>\n",
       "      <td>4.5</td>\n",
       "      <td>[aqua/water/eau, sodium cocoyl isethionate, di...</td>\n",
       "      <td>https://www.ulta.com/p/hydrate-shampoo-pimprod...</td>\n",
       "      <td>shampoo</td>\n",
       "    </tr>\n",
       "    <tr>\n",
       "      <th>1</th>\n",
       "      <td>miracle leave-in product</td>\n",
       "      <td>It's A 10</td>\n",
       "      <td>4.6</td>\n",
       "      <td>[water (aqua, eau), propylene glycol, cetearyl...</td>\n",
       "      <td>https://www.ulta.com/p/miracle-leave-in-produc...</td>\n",
       "      <td>conditioner</td>\n",
       "    </tr>\n",
       "    <tr>\n",
       "      <th>2</th>\n",
       "      <td>no.4 bond maintenance shampoo</td>\n",
       "      <td>OLAPLEX</td>\n",
       "      <td>4.3</td>\n",
       "      <td>[water (aqua/eau), sodium lauroyl methyl iseth...</td>\n",
       "      <td>https://www.ulta.com/p/no4-bond-maintenance-sh...</td>\n",
       "      <td>shampoo</td>\n",
       "    </tr>\n",
       "    <tr>\n",
       "      <th>3</th>\n",
       "      <td>hg shampoo for thicker, stronger, fuller-looki...</td>\n",
       "      <td>Bondi Boost</td>\n",
       "      <td>4.7</td>\n",
       "      <td>[aloe barbadensis (aloe vera) leaf juice, sodi...</td>\n",
       "      <td>https://www.ulta.com/p/hg-shampoo-thicker-stro...</td>\n",
       "      <td>shampoo</td>\n",
       "    </tr>\n",
       "    <tr>\n",
       "      <th>4</th>\n",
       "      <td>no.5 bond maintenance conditioner</td>\n",
       "      <td>OLAPLEX</td>\n",
       "      <td>4.4</td>\n",
       "      <td>[water (aqua/eau), cetearyl alcohol, ppg-3 ben...</td>\n",
       "      <td>https://www.ulta.com/p/no5-bond-maintenance-co...</td>\n",
       "      <td>conditioner</td>\n",
       "    </tr>\n",
       "  </tbody>\n",
       "</table>\n",
       "</div>"
      ],
      "text/plain": [
       "                                        product_name   brand-name  rating  \\\n",
       "0                                    hydrate shampoo    Pureology     4.5   \n",
       "1                           miracle leave-in product    It's A 10     4.6   \n",
       "2                      no.4 bond maintenance shampoo      OLAPLEX     4.3   \n",
       "3  hg shampoo for thicker, stronger, fuller-looki...  Bondi Boost     4.7   \n",
       "4                  no.5 bond maintenance conditioner      OLAPLEX     4.4   \n",
       "\n",
       "                                         ingredients  \\\n",
       "0  [aqua/water/eau, sodium cocoyl isethionate, di...   \n",
       "1  [water (aqua, eau), propylene glycol, cetearyl...   \n",
       "2  [water (aqua/eau), sodium lauroyl methyl iseth...   \n",
       "3  [aloe barbadensis (aloe vera) leaf juice, sodi...   \n",
       "4  [water (aqua/eau), cetearyl alcohol, ppg-3 ben...   \n",
       "\n",
       "                                         product_url         type  \n",
       "0  https://www.ulta.com/p/hydrate-shampoo-pimprod...      shampoo  \n",
       "1  https://www.ulta.com/p/miracle-leave-in-produc...  conditioner  \n",
       "2  https://www.ulta.com/p/no4-bond-maintenance-sh...      shampoo  \n",
       "3  https://www.ulta.com/p/hg-shampoo-thicker-stro...      shampoo  \n",
       "4  https://www.ulta.com/p/no5-bond-maintenance-co...  conditioner  "
      ]
     },
     "execution_count": 22,
     "metadata": {},
     "output_type": "execute_result"
    }
   ],
   "source": [
    "df.head()"
   ]
  },
  {
   "cell_type": "code",
   "execution_count": 23,
   "metadata": {},
   "outputs": [],
   "source": [
    "#setup model by splitting data \n",
    "\n",
    "X = df.ingredients.astype(str)\n",
    "\n",
    "y = df['type']\n",
    "\n",
    "X_train, X_test, y_train, y_test = train_test_split(X, y, test_size=0.2, random_state=12)\n"
   ]
  },
  {
   "cell_type": "code",
   "execution_count": 24,
   "metadata": {},
   "outputs": [
    {
     "data": {
      "text/plain": [
       "(898, 2502)"
      ]
     },
     "execution_count": 24,
     "metadata": {},
     "output_type": "execute_result"
    }
   ],
   "source": [
    "#Convert a collection of text documents to a matrix of token counts.\n",
    "vectorizer = CountVectorizer()\n",
    "\n",
    "#Learn the vocabulary dictionary and return document-term matrix.\n",
    "X_train_vect = vectorizer.fit_transform(X_train)\n",
    "\n",
    "X_train_vect.shape\n"
   ]
  },
  {
   "cell_type": "code",
   "execution_count": 25,
   "metadata": {},
   "outputs": [],
   "source": [
    "# Logistic Regression Model to classify this binary model \n",
    "\n",
    "model = LogisticRegression()\n",
    "\n",
    "model.fit(X_train_vect, y_train)\n",
    "\n",
    "X_test_vect = vectorizer.transform(X_test)\n",
    "\n",
    "prediction = model.predict(X_test_vect)\n"
   ]
  },
  {
   "cell_type": "code",
   "execution_count": 26,
   "metadata": {},
   "outputs": [
    {
     "name": "stdout",
     "output_type": "stream",
     "text": [
      "confusion matrix: \n",
      "              shampoo  conditioner\n",
      "shampoo          110            9\n",
      "conditioner        2          104\n",
      "\n",
      "              precision    recall  f1-score   support\n",
      "\n",
      " conditioner       0.92      0.98      0.95       106\n",
      "     shampoo       0.98      0.92      0.95       119\n",
      "\n",
      "    accuracy                           0.95       225\n",
      "   macro avg       0.95      0.95      0.95       225\n",
      "weighted avg       0.95      0.95      0.95       225\n",
      "\n"
     ]
    }
   ],
   "source": [
    "#Print out metrics of the model \n",
    "\n",
    "confusion_matrix_1 = pd.DataFrame(metrics.confusion_matrix(y_test,prediction, labels = ['shampoo', 'conditioner']), index=['shampoo','conditioner'], columns=['shampoo','conditioner'])\n",
    "\n",
    "print(f\"confusion matrix: \\n {confusion_matrix_1}\\n\")\n",
    "\n",
    "print(metrics.classification_report(y_test, prediction))"
   ]
  },
  {
   "attachments": {},
   "cell_type": "markdown",
   "metadata": {},
   "source": [
    "This model has pretty good accuracy for predicting the type of product based on its ingredient label. The cleaning of the data was essential, as there was quite a bit of noise prior. \n",
    "\n",
    "A next step in this project that would be interesting is to see if we can generate a fake product ingredient label for each type of product. "
   ]
  },
  {
   "attachments": {},
   "cell_type": "markdown",
   "metadata": {},
   "source": [
    "Thank you for reading through this project, I hope it is insightful! "
   ]
  }
 ],
 "metadata": {
  "kernelspec": {
   "display_name": "env_tensor",
   "language": "python",
   "name": "python3"
  },
  "language_info": {
   "codemirror_mode": {
    "name": "ipython",
    "version": 3
   },
   "file_extension": ".py",
   "mimetype": "text/x-python",
   "name": "python",
   "nbconvert_exporter": "python",
   "pygments_lexer": "ipython3",
   "version": "3.8.13"
  },
  "orig_nbformat": 4,
  "vscode": {
   "interpreter": {
    "hash": "3e5fa1c26ba8185e646262389fd9767bcefb8c2202b628f90438cc73728610d3"
   }
  }
 },
 "nbformat": 4,
 "nbformat_minor": 2
}
