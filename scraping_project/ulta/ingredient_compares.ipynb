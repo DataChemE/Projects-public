{
 "cells": [
  {
   "attachments": {},
   "cell_type": "markdown",
   "metadata": {},
   "source": [
    "This analysis will use machine learning to categorize products based on their ingredient listing. \n",
    "\n",
    "There are over 16000 ingredients registered to INCI for cosmetics\n",
    "This data was scraped from Ulta.com using my Scrapy SpiderCrawler project. "
   ]
  },
  {
   "cell_type": "code",
   "execution_count": 1,
   "metadata": {},
   "outputs": [],
   "source": [
    "#import all packages upfront for transparency\n",
    "import numpy as np\n",
    "import pandas as pd\n",
    "import matplotlib.pyplot as plt\n",
    "from sklearn.model_selection import train_test_split\n",
    "from sklearn.feature_extraction.text import CountVectorizer\n",
    "from sklearn.linear_model import LogisticRegression\n",
    "from sklearn import metrics"
   ]
  },
  {
   "cell_type": "code",
   "execution_count": 2,
   "metadata": {},
   "outputs": [
    {
     "data": {
      "text/html": [
       "<div>\n",
       "<style scoped>\n",
       "    .dataframe tbody tr th:only-of-type {\n",
       "        vertical-align: middle;\n",
       "    }\n",
       "\n",
       "    .dataframe tbody tr th {\n",
       "        vertical-align: top;\n",
       "    }\n",
       "\n",
       "    .dataframe thead th {\n",
       "        text-align: right;\n",
       "    }\n",
       "</style>\n",
       "<table border=\"1\" class=\"dataframe\">\n",
       "  <thead>\n",
       "    <tr style=\"text-align: right;\">\n",
       "      <th></th>\n",
       "      <th>product_name</th>\n",
       "      <th>brand-name</th>\n",
       "      <th>rating</th>\n",
       "      <th>ingredients</th>\n",
       "      <th>product_url</th>\n",
       "    </tr>\n",
       "  </thead>\n",
       "  <tbody>\n",
       "    <tr>\n",
       "      <th>1048</th>\n",
       "      <td>Core Strength Shampoo</td>\n",
       "      <td>Curlsmith</td>\n",
       "      <td>3.3</td>\n",
       "      <td>Water (Aqua), Sodium Methyl Cocoyl Taurate, Co...</td>\n",
       "      <td>https://www.ulta.com/p/core-strength-shampoo-p...</td>\n",
       "    </tr>\n",
       "    <tr>\n",
       "      <th>1065</th>\n",
       "      <td>Flourish Conditioner for Thinning Hair</td>\n",
       "      <td>Virtue</td>\n",
       "      <td>4.7</td>\n",
       "      <td>Aqua (Water, Eau), Cetearyl Alcohol, Dimethico...</td>\n",
       "      <td>https://www.ulta.com/p/flourish-conditioner-th...</td>\n",
       "    </tr>\n",
       "    <tr>\n",
       "      <th>325</th>\n",
       "      <td>ColorSolve Daily Moisture Conditioner</td>\n",
       "      <td>Madison Reed</td>\n",
       "      <td>3</td>\n",
       "      <td>Aqua (Water), Cetearyl Alcohol, Behentrimonium...</td>\n",
       "      <td>https://www.ulta.com/p/colorsolve-daily-moistu...</td>\n",
       "    </tr>\n",
       "    <tr>\n",
       "      <th>559</th>\n",
       "      <td>Travel Size Intense Therapy Leave-In Treatment</td>\n",
       "      <td>Pravana</td>\n",
       "      <td>4.4</td>\n",
       "      <td>Water (Aqua/Eau), Cyclomethicone, Phenyl Trime...</td>\n",
       "      <td>https://www.ulta.com/p/travel-size-intense-the...</td>\n",
       "    </tr>\n",
       "    <tr>\n",
       "      <th>222</th>\n",
       "      <td>Manuka Honey &amp; Yogurt Hydrate + Repair Shampoo</td>\n",
       "      <td>SheaMoisture</td>\n",
       "      <td>4.4</td>\n",
       "      <td>Water, Sodium Lauroyl Methyl lsethionate, Coco...</td>\n",
       "      <td>https://www.ulta.com/p/manuka-honey-yogurt-hyd...</td>\n",
       "    </tr>\n",
       "  </tbody>\n",
       "</table>\n",
       "</div>"
      ],
      "text/plain": [
       "                                        product_name    brand-name rating  \\\n",
       "1048                           Core Strength Shampoo     Curlsmith    3.3   \n",
       "1065          Flourish Conditioner for Thinning Hair        Virtue    4.7   \n",
       "325            ColorSolve Daily Moisture Conditioner  Madison Reed      3   \n",
       "559   Travel Size Intense Therapy Leave-In Treatment       Pravana    4.4   \n",
       "222   Manuka Honey & Yogurt Hydrate + Repair Shampoo  SheaMoisture    4.4   \n",
       "\n",
       "                                            ingredients  \\\n",
       "1048  Water (Aqua), Sodium Methyl Cocoyl Taurate, Co...   \n",
       "1065  Aqua (Water, Eau), Cetearyl Alcohol, Dimethico...   \n",
       "325   Aqua (Water), Cetearyl Alcohol, Behentrimonium...   \n",
       "559   Water (Aqua/Eau), Cyclomethicone, Phenyl Trime...   \n",
       "222   Water, Sodium Lauroyl Methyl lsethionate, Coco...   \n",
       "\n",
       "                                            product_url  \n",
       "1048  https://www.ulta.com/p/core-strength-shampoo-p...  \n",
       "1065  https://www.ulta.com/p/flourish-conditioner-th...  \n",
       "325   https://www.ulta.com/p/colorsolve-daily-moistu...  \n",
       "559   https://www.ulta.com/p/travel-size-intense-the...  \n",
       "222   https://www.ulta.com/p/manuka-honey-yogurt-hyd...  "
      ]
     },
     "metadata": {},
     "output_type": "display_data"
    },
    {
     "name": "stdout",
     "output_type": "stream",
     "text": [
      "original shape (1151, 5)\n"
     ]
    }
   ],
   "source": [
    "#load in the dataset, contains 1151 products\n",
    "df = pd.read_csv(\"/Users/tylerjensen/Data-Science-Portfolio-Projects/scraping_project/ulta/shampoo_conditioner1.csv\")\n",
    "display(df.sample(5))\n",
    "print(f\"original shape {df.shape}\")"
   ]
  },
  {
   "cell_type": "code",
   "execution_count": 3,
   "metadata": {},
   "outputs": [
    {
     "name": "stdout",
     "output_type": "stream",
     "text": [
      "unique_brands 111 \n",
      "rows/columns (1143, 5)\n",
      "overall average rating 4.33\n"
     ]
    }
   ],
   "source": [
    "#drop products without a review yet \n",
    "df = df[df.rating != \"Write A Review\"]\n",
    "df['rating'] = pd.to_numeric(df['rating'])\n",
    "\n",
    "#Count the number of unique brands, shape of DataFrame and overall average product rating\n",
    "print(f\"unique_brands {df['brand-name'].nunique()} \")\n",
    "print(f\"rows/columns {df.shape}\")\n",
    "print(f\"overall average rating {df['rating'].mean():.2f}\")"
   ]
  },
  {
   "cell_type": "code",
   "execution_count": 4,
   "metadata": {},
   "outputs": [
    {
     "name": "stdout",
     "output_type": "stream",
     "text": [
      "product_name    0\n",
      "brand-name      0\n",
      "rating          0\n",
      "ingredients     0\n",
      "product_url     0\n",
      "dtype: int64\n",
      "rows,columns: (1135, 5)\n"
     ]
    }
   ],
   "source": [
    "#there are 8 rows with no ingredient list, no other values are empty\n",
    "#lets drop those rows\n",
    "df = df.dropna()\n",
    "print(df.isna().sum())\n",
    "\n",
    "print(f\"rows,columns: {df.shape}\")"
   ]
  },
  {
   "cell_type": "code",
   "execution_count": 5,
   "metadata": {},
   "outputs": [
    {
     "name": "stdout",
     "output_type": "stream",
     "text": [
      "Paul Mitchell        52\n",
      "Redken               45\n",
      "Bumble and bumble    33\n",
      "Joico                32\n",
      "Not Your Mother's    31\n",
      "                     ..\n",
      "Beast                 1\n",
      "Thick Head            1\n",
      "Every Man Jack        1\n",
      "Pipette               1\n",
      "Punky Colour          1\n",
      "Name: brand-name, Length: 111, dtype: int64\n"
     ]
    }
   ],
   "source": [
    "# which brands have the most products on Ulta under the shampoo/conditioner category\n",
    "print(df['brand-name'].value_counts())"
   ]
  },
  {
   "attachments": {},
   "cell_type": "markdown",
   "metadata": {},
   "source": [
    "This analysis will train a ML model to learn to classify cosmetic products \"product type\" based on their ingredient labels. First we need to clean up the ingredients column. "
   ]
  },
  {
   "cell_type": "code",
   "execution_count": 6,
   "metadata": {},
   "outputs": [
    {
     "data": {
      "text/html": [
       "<div>\n",
       "<style scoped>\n",
       "    .dataframe tbody tr th:only-of-type {\n",
       "        vertical-align: middle;\n",
       "    }\n",
       "\n",
       "    .dataframe tbody tr th {\n",
       "        vertical-align: top;\n",
       "    }\n",
       "\n",
       "    .dataframe thead th {\n",
       "        text-align: right;\n",
       "    }\n",
       "</style>\n",
       "<table border=\"1\" class=\"dataframe\">\n",
       "  <thead>\n",
       "    <tr style=\"text-align: right;\">\n",
       "      <th></th>\n",
       "      <th>product_name</th>\n",
       "      <th>brand-name</th>\n",
       "      <th>rating</th>\n",
       "      <th>ingredients</th>\n",
       "      <th>product_url</th>\n",
       "      <th>type</th>\n",
       "    </tr>\n",
       "  </thead>\n",
       "  <tbody>\n",
       "    <tr>\n",
       "      <th>0</th>\n",
       "      <td>hydrate shampoo</td>\n",
       "      <td>Pureology</td>\n",
       "      <td>4.5</td>\n",
       "      <td>Aqua/Water/Eau, Sodium Cocoyl Isethionate, Dis...</td>\n",
       "      <td>https://www.ulta.com/p/hydrate-shampoo-pimprod...</td>\n",
       "      <td>shampoo</td>\n",
       "    </tr>\n",
       "    <tr>\n",
       "      <th>1</th>\n",
       "      <td>miracle leave-in product</td>\n",
       "      <td>It's A 10</td>\n",
       "      <td>4.6</td>\n",
       "      <td>Water (Aqua, Eau), Propylene Glycol, Cetearyl ...</td>\n",
       "      <td>https://www.ulta.com/p/miracle-leave-in-produc...</td>\n",
       "      <td>conditioner</td>\n",
       "    </tr>\n",
       "    <tr>\n",
       "      <th>2</th>\n",
       "      <td>no.4 bond maintenance shampoo</td>\n",
       "      <td>OLAPLEX</td>\n",
       "      <td>4.3</td>\n",
       "      <td>Water (Aqua/Eau), Sodium Lauroyl Methyl Isethi...</td>\n",
       "      <td>https://www.ulta.com/p/no4-bond-maintenance-sh...</td>\n",
       "      <td>shampoo</td>\n",
       "    </tr>\n",
       "    <tr>\n",
       "      <th>3</th>\n",
       "      <td>hg shampoo for thicker, stronger, fuller-looki...</td>\n",
       "      <td>Bondi Boost</td>\n",
       "      <td>4.7</td>\n",
       "      <td>Aloe Barbadensis (Aloe Vera) Leaf Juice*, Sodi...</td>\n",
       "      <td>https://www.ulta.com/p/hg-shampoo-thicker-stro...</td>\n",
       "      <td>shampoo</td>\n",
       "    </tr>\n",
       "    <tr>\n",
       "      <th>4</th>\n",
       "      <td>no.5 bond maintenance conditioner</td>\n",
       "      <td>OLAPLEX</td>\n",
       "      <td>4.4</td>\n",
       "      <td>Water (Aqua/Eau), Cetearyl Alcohol, PPG-3 Benz...</td>\n",
       "      <td>https://www.ulta.com/p/no5-bond-maintenance-co...</td>\n",
       "      <td>conditioner</td>\n",
       "    </tr>\n",
       "  </tbody>\n",
       "</table>\n",
       "</div>"
      ],
      "text/plain": [
       "                                        product_name   brand-name  rating  \\\n",
       "0                                    hydrate shampoo    Pureology     4.5   \n",
       "1                           miracle leave-in product    It's A 10     4.6   \n",
       "2                      no.4 bond maintenance shampoo      OLAPLEX     4.3   \n",
       "3  hg shampoo for thicker, stronger, fuller-looki...  Bondi Boost     4.7   \n",
       "4                  no.5 bond maintenance conditioner      OLAPLEX     4.4   \n",
       "\n",
       "                                         ingredients  \\\n",
       "0  Aqua/Water/Eau, Sodium Cocoyl Isethionate, Dis...   \n",
       "1  Water (Aqua, Eau), Propylene Glycol, Cetearyl ...   \n",
       "2  Water (Aqua/Eau), Sodium Lauroyl Methyl Isethi...   \n",
       "3  Aloe Barbadensis (Aloe Vera) Leaf Juice*, Sodi...   \n",
       "4  Water (Aqua/Eau), Cetearyl Alcohol, PPG-3 Benz...   \n",
       "\n",
       "                                         product_url         type  \n",
       "0  https://www.ulta.com/p/hydrate-shampoo-pimprod...      shampoo  \n",
       "1  https://www.ulta.com/p/miracle-leave-in-produc...  conditioner  \n",
       "2  https://www.ulta.com/p/no4-bond-maintenance-sh...      shampoo  \n",
       "3  https://www.ulta.com/p/hg-shampoo-thicker-stro...      shampoo  \n",
       "4  https://www.ulta.com/p/no5-bond-maintenance-co...  conditioner  "
      ]
     },
     "execution_count": 6,
     "metadata": {},
     "output_type": "execute_result"
    }
   ],
   "source": [
    "df['product_name'] = df['product_name'].str.lower()\n",
    "\n",
    " #drop rows that contain sets of multiple products as a kit\n",
    "df = df[df['product_name'].str.contains(\"set|kit\") == False]\n",
    "\n",
    "#categorize products by name\n",
    "df['type'] = np.where(pd.Series(df.product_name).str.contains('shampoo|cleanser'),'shampoo', 'conditioner')\n",
    "\n",
    "df.head() "
   ]
  },
  {
   "cell_type": "code",
   "execution_count": 7,
   "metadata": {},
   "outputs": [
    {
     "name": "stdout",
     "output_type": "stream",
     "text": [
      "number of product types: 2\n",
      "df shape after cleaning (1123, 6)\n",
      "count of each type of product:\n",
      "conditioner    563\n",
      "shampoo        560\n",
      "Name: type, dtype: int64\n"
     ]
    }
   ],
   "source": [
    "#DataFrame info after cleaning \n",
    "print(f\"number of product types: {df['type'].nunique()}\")\n",
    "print(f\"df shape after cleaning {df.shape}\")\n",
    "print(f\"count of each type of product:\\n{df['type'].value_counts()}\")\n"
   ]
  },
  {
   "attachments": {},
   "cell_type": "markdown",
   "metadata": {},
   "source": [
    "We see about an even number of shampoos and conditioners, which is expected since most product lineups contain both. \n",
    "\n",
    "Next we are going to clean up the ingredients list column. "
   ]
  },
  {
   "cell_type": "code",
   "execution_count": 8,
   "metadata": {},
   "outputs": [
    {
     "name": "stdout",
     "output_type": "stream",
     "text": [
      "['water (aqua/eau)', 'propylene glycol', 'cetearyl alcohol', 'cyclopentasiloxane', 'behentrimonium chloride', 'quaternium-80', 'phenoxyethanol', 'fragrance (parfum)', 'methylparaben', 'panthenol', 'propylparaben', 'ethylparaben', 'aloe barbadensis leaf juice', 'butylene glycol', 'sodium hydroxide', 'hydrolyzed keratin', 'keratin amino acids', 'helianthus annuus (sunflower) seed extract', 'silk amino acids', 'camellia sinensis leaf extract', 'benzyl benzoate', 'benzyl salicylate', 'hydroxycitronellal', 'linalool']\n"
     ]
    },
    {
     "name": "stderr",
     "output_type": "stream",
     "text": [
      "/var/folders/w5/2z3_2xd934z0ryjywh4_05wr0000gn/T/ipykernel_93158/2900431454.py:3: FutureWarning: The default value of regex will change from True to False in a future version. In addition, single character regular expressions will *not* be treated as literal strings when regex=True.\n",
      "  df['ingredients'] = df['ingredients'].str.replace('*', '')\n",
      "/var/folders/w5/2z3_2xd934z0ryjywh4_05wr0000gn/T/ipykernel_93158/2900431454.py:4: FutureWarning: The default value of regex will change from True to False in a future version. In addition, single character regular expressions will *not* be treated as literal strings when regex=True.\n",
      "  df['ingredients'] = df['ingredients'].str.replace('.', '')\n"
     ]
    }
   ],
   "source": [
    "df['ingredients'] = df['ingredients'].str.lower()\n",
    "\n",
    "df['ingredients'] = df['ingredients'].str.replace('*', '')\n",
    "df['ingredients'] = df['ingredients'].str.replace('.', '')\n",
    "\n",
    "df['ingredients'] = df['ingredients'].str.split(',')\n",
    "\n",
    "#nested list comprehension for stripping white space in each ingredient \n",
    "df['ingredients'] = [[x.strip() for x in l] for l in df['ingredients']]\n",
    "\n",
    "#example print out \n",
    "print(df['ingredients'][11])"
   ]
  },
  {
   "cell_type": "code",
   "execution_count": 9,
   "metadata": {},
   "outputs": [
    {
     "data": {
      "text/html": [
       "<div>\n",
       "<style scoped>\n",
       "    .dataframe tbody tr th:only-of-type {\n",
       "        vertical-align: middle;\n",
       "    }\n",
       "\n",
       "    .dataframe tbody tr th {\n",
       "        vertical-align: top;\n",
       "    }\n",
       "\n",
       "    .dataframe thead th {\n",
       "        text-align: right;\n",
       "    }\n",
       "</style>\n",
       "<table border=\"1\" class=\"dataframe\">\n",
       "  <thead>\n",
       "    <tr style=\"text-align: right;\">\n",
       "      <th></th>\n",
       "      <th>product_name</th>\n",
       "      <th>brand-name</th>\n",
       "      <th>rating</th>\n",
       "      <th>ingredients</th>\n",
       "      <th>product_url</th>\n",
       "      <th>type</th>\n",
       "    </tr>\n",
       "  </thead>\n",
       "  <tbody>\n",
       "    <tr>\n",
       "      <th>0</th>\n",
       "      <td>hydrate shampoo</td>\n",
       "      <td>Pureology</td>\n",
       "      <td>4.5</td>\n",
       "      <td>[aqua/water/eau, sodium cocoyl isethionate, di...</td>\n",
       "      <td>https://www.ulta.com/p/hydrate-shampoo-pimprod...</td>\n",
       "      <td>shampoo</td>\n",
       "    </tr>\n",
       "    <tr>\n",
       "      <th>1</th>\n",
       "      <td>miracle leave-in product</td>\n",
       "      <td>It's A 10</td>\n",
       "      <td>4.6</td>\n",
       "      <td>[water (aqua, eau), propylene glycol, cetearyl...</td>\n",
       "      <td>https://www.ulta.com/p/miracle-leave-in-produc...</td>\n",
       "      <td>conditioner</td>\n",
       "    </tr>\n",
       "    <tr>\n",
       "      <th>2</th>\n",
       "      <td>no.4 bond maintenance shampoo</td>\n",
       "      <td>OLAPLEX</td>\n",
       "      <td>4.3</td>\n",
       "      <td>[water (aqua/eau), sodium lauroyl methyl iseth...</td>\n",
       "      <td>https://www.ulta.com/p/no4-bond-maintenance-sh...</td>\n",
       "      <td>shampoo</td>\n",
       "    </tr>\n",
       "    <tr>\n",
       "      <th>3</th>\n",
       "      <td>hg shampoo for thicker, stronger, fuller-looki...</td>\n",
       "      <td>Bondi Boost</td>\n",
       "      <td>4.7</td>\n",
       "      <td>[aloe barbadensis (aloe vera) leaf juice, sodi...</td>\n",
       "      <td>https://www.ulta.com/p/hg-shampoo-thicker-stro...</td>\n",
       "      <td>shampoo</td>\n",
       "    </tr>\n",
       "    <tr>\n",
       "      <th>4</th>\n",
       "      <td>no.5 bond maintenance conditioner</td>\n",
       "      <td>OLAPLEX</td>\n",
       "      <td>4.4</td>\n",
       "      <td>[water (aqua/eau), cetearyl alcohol, ppg-3 ben...</td>\n",
       "      <td>https://www.ulta.com/p/no5-bond-maintenance-co...</td>\n",
       "      <td>conditioner</td>\n",
       "    </tr>\n",
       "  </tbody>\n",
       "</table>\n",
       "</div>"
      ],
      "text/plain": [
       "                                        product_name   brand-name  rating  \\\n",
       "0                                    hydrate shampoo    Pureology     4.5   \n",
       "1                           miracle leave-in product    It's A 10     4.6   \n",
       "2                      no.4 bond maintenance shampoo      OLAPLEX     4.3   \n",
       "3  hg shampoo for thicker, stronger, fuller-looki...  Bondi Boost     4.7   \n",
       "4                  no.5 bond maintenance conditioner      OLAPLEX     4.4   \n",
       "\n",
       "                                         ingredients  \\\n",
       "0  [aqua/water/eau, sodium cocoyl isethionate, di...   \n",
       "1  [water (aqua, eau), propylene glycol, cetearyl...   \n",
       "2  [water (aqua/eau), sodium lauroyl methyl iseth...   \n",
       "3  [aloe barbadensis (aloe vera) leaf juice, sodi...   \n",
       "4  [water (aqua/eau), cetearyl alcohol, ppg-3 ben...   \n",
       "\n",
       "                                         product_url         type  \n",
       "0  https://www.ulta.com/p/hydrate-shampoo-pimprod...      shampoo  \n",
       "1  https://www.ulta.com/p/miracle-leave-in-produc...  conditioner  \n",
       "2  https://www.ulta.com/p/no4-bond-maintenance-sh...      shampoo  \n",
       "3  https://www.ulta.com/p/hg-shampoo-thicker-stro...      shampoo  \n",
       "4  https://www.ulta.com/p/no5-bond-maintenance-co...  conditioner  "
      ]
     },
     "execution_count": 9,
     "metadata": {},
     "output_type": "execute_result"
    }
   ],
   "source": [
    "df.head()"
   ]
  },
  {
   "cell_type": "code",
   "execution_count": 10,
   "metadata": {},
   "outputs": [],
   "source": [
    "#setup model by splitting data \n",
    "\n",
    "X = df.ingredients.astype(str)\n",
    "\n",
    "y = df['type']\n",
    "\n",
    "X_train, X_test, y_train, y_test = train_test_split(X, y, test_size=0.2, random_state=12)\n"
   ]
  },
  {
   "cell_type": "code",
   "execution_count": 11,
   "metadata": {},
   "outputs": [
    {
     "data": {
      "text/plain": [
       "(898, 2502)"
      ]
     },
     "execution_count": 11,
     "metadata": {},
     "output_type": "execute_result"
    }
   ],
   "source": [
    "#Convert a collection of text documents to a matrix of token counts.\n",
    "vectorizer = CountVectorizer()\n",
    "\n",
    "#Learn the vocabulary dictionary and return document-term matrix.\n",
    "X_train_vect = vectorizer.fit_transform(X_train)\n",
    "\n",
    "X_train_vect.shape\n"
   ]
  },
  {
   "cell_type": "code",
   "execution_count": 12,
   "metadata": {},
   "outputs": [],
   "source": [
    "# Logistic Regression Model to classify this binary model \n",
    "\n",
    "model = LogisticRegression()\n",
    "\n",
    "model.fit(X_train_vect, y_train)\n",
    "\n",
    "X_test_vect = vectorizer.transform(X_test)\n",
    "\n",
    "prediction = model.predict(X_test_vect)\n"
   ]
  },
  {
   "cell_type": "code",
   "execution_count": 13,
   "metadata": {},
   "outputs": [
    {
     "name": "stdout",
     "output_type": "stream",
     "text": [
      "confusion matrix: \n",
      "              shampoo  conditioner\n",
      "shampoo          110            9\n",
      "conditioner        2          104\n",
      "\n",
      "              precision    recall  f1-score   support\n",
      "\n",
      " conditioner       0.92      0.98      0.95       106\n",
      "     shampoo       0.98      0.92      0.95       119\n",
      "\n",
      "    accuracy                           0.95       225\n",
      "   macro avg       0.95      0.95      0.95       225\n",
      "weighted avg       0.95      0.95      0.95       225\n",
      "\n"
     ]
    }
   ],
   "source": [
    "#Print out metrics of the model \n",
    "\n",
    "confusion_matrix_1 = pd.DataFrame(metrics.confusion_matrix(y_test,prediction, labels = ['shampoo', 'conditioner']), index=['shampoo','conditioner'], columns=['shampoo','conditioner'])\n",
    "\n",
    "print(f\"confusion matrix: \\n {confusion_matrix_1}\\n\")\n",
    "\n",
    "print(metrics.classification_report(y_test, prediction))"
   ]
  },
  {
   "attachments": {},
   "cell_type": "markdown",
   "metadata": {},
   "source": [
    "This model has pretty good accuracy for predicting the type of product based on its ingredient label. The cleaning of the data was essential, as there was quite a bit of noise prior. \n",
    "\n",
    "A next step in this project that would be interesting is to see if we can generate a fake product ingredient label for each type of product. "
   ]
  }
 ],
 "metadata": {
  "kernelspec": {
   "display_name": "env_tensor",
   "language": "python",
   "name": "python3"
  },
  "language_info": {
   "codemirror_mode": {
    "name": "ipython",
    "version": 3
   },
   "file_extension": ".py",
   "mimetype": "text/x-python",
   "name": "python",
   "nbconvert_exporter": "python",
   "pygments_lexer": "ipython3",
   "version": "3.8.13"
  },
  "orig_nbformat": 4,
  "vscode": {
   "interpreter": {
    "hash": "3e5fa1c26ba8185e646262389fd9767bcefb8c2202b628f90438cc73728610d3"
   }
  }
 },
 "nbformat": 4,
 "nbformat_minor": 2
}
